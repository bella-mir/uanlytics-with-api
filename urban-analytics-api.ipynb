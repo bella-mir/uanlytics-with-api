{
 "cells": [
  {
   "attachments": {},
   "cell_type": "markdown",
   "metadata": {},
   "source": [
    "# OSM + DATA_MOS + ORS\n"
   ]
  },
  {
   "attachments": {},
   "cell_type": "markdown",
   "metadata": {},
   "source": [
    "## 1. Import libraries\n"
   ]
  },
  {
   "cell_type": "code",
   "execution_count": null,
   "metadata": {},
   "outputs": [],
   "source": [
    "import osmnx as ox\n",
    "import geopandas as gpd\n",
    "import folium\n",
    "import requests\n",
    "import pandas as pd"
   ]
  },
  {
   "attachments": {},
   "cell_type": "markdown",
   "metadata": {},
   "source": [
    "## 2. Explore osmnx library\n"
   ]
  },
  {
   "attachments": {},
   "cell_type": "markdown",
   "metadata": {},
   "source": [
    "#### 2.1 Select territory\n"
   ]
  },
  {
   "cell_type": "code",
   "execution_count": null,
   "metadata": {},
   "outputs": [],
   "source": [
    "area = ox.geocode_to_gdf('Khamovniki, Moscow')"
   ]
  },
  {
   "attachments": {},
   "cell_type": "markdown",
   "metadata": {},
   "source": [
    "#### 2.2 Explore the boundaries we get\n"
   ]
  },
  {
   "cell_type": "code",
   "execution_count": null,
   "metadata": {},
   "outputs": [],
   "source": [
    "area.head()"
   ]
  },
  {
   "cell_type": "code",
   "execution_count": null,
   "metadata": {},
   "outputs": [],
   "source": [
    "area.plot()"
   ]
  },
  {
   "attachments": {},
   "cell_type": "markdown",
   "metadata": {},
   "source": [
    "#### 2.3 List key-value pairs for tags and get geometries\n"
   ]
  },
  {
   "cell_type": "code",
   "execution_count": null,
   "metadata": {},
   "outputs": [],
   "source": [
    "tags = {'building': True}   \n",
    "\n",
    "buildings = ox.geometries_from_place('Khamovniki', tags)\n",
    "\n",
    "buildings.head()"
   ]
  },
  {
   "cell_type": "code",
   "execution_count": null,
   "metadata": {},
   "outputs": [],
   "source": [
    "type(buildings)"
   ]
  },
  {
   "attachments": {},
   "cell_type": "markdown",
   "metadata": {},
   "source": [
    "#### 2.4 Select only Polygon geometries\n"
   ]
  },
  {
   "cell_type": "code",
   "execution_count": null,
   "metadata": {},
   "outputs": [],
   "source": [
    "buildings = buildings.loc[buildings.geometry.type=='Polygon']\n",
    "buildings.head()"
   ]
  },
  {
   "attachments": {},
   "cell_type": "markdown",
   "metadata": {},
   "source": [
    "#### 2.5 Plot two layers (district boundary and buildings)\n"
   ]
  },
  {
   "cell_type": "code",
   "execution_count": null,
   "metadata": {},
   "outputs": [],
   "source": [
    "base = area.plot(color='white', edgecolor='blue')\n",
    "buildings.plot(ax=base, color='blue')"
   ]
  },
  {
   "attachments": {},
   "cell_type": "markdown",
   "metadata": {},
   "source": [
    "#### 2.6 Save layers to file\n"
   ]
  },
  {
   "attachments": {},
   "cell_type": "markdown",
   "metadata": {},
   "source": [
    "2.6.1. Change columns list types to string\n"
   ]
  },
  {
   "cell_type": "code",
   "execution_count": null,
   "metadata": {},
   "outputs": [],
   "source": [
    "for col in buildings.columns:\n",
    "    if any(isinstance(val, list) for val in buildings[col]):\n",
    "        buildings = buildings.astype({col: str})\n"
   ]
  },
  {
   "cell_type": "code",
   "execution_count": null,
   "metadata": {},
   "outputs": [],
   "source": [
    "buildings.to_file('building.shp')"
   ]
  },
  {
   "attachments": {},
   "cell_type": "markdown",
   "metadata": {},
   "source": [
    "#### 2.7 Create web-map to look at the results\\* (Optional)\n"
   ]
  },
  {
   "cell_type": "code",
   "execution_count": null,
   "metadata": {},
   "outputs": [],
   "source": [
    "osm_map = folium.Map(location=[buildings.centroid.y.mean(), buildings.centroid.x.mean()], zoom_start=14,  tiles='CartoDB positron')\n",
    "polygons  = folium.features.GeoJson(buildings.to_json())\n",
    "osm_map.add_child(polygons)\n",
    "osm_map"
   ]
  },
  {
   "attachments": {},
   "cell_type": "markdown",
   "metadata": {},
   "source": [
    "## 3. DataMos API: it was never so easy to get data from data_mos ...\n"
   ]
  },
  {
   "attachments": {},
   "cell_type": "markdown",
   "metadata": {},
   "source": [
    "#### 3.1 Set parameters for the request\n"
   ]
  },
  {
   "cell_type": "code",
   "execution_count": null,
   "metadata": {},
   "outputs": [],
   "source": [
    "datamos_api = 'your-api-here'\n",
    "data_set = 2624 # number of a dataSet \n",
    "\n",
    "url_data = f'https://apidata.mos.ru/v1/datasets/{data_set}/features?api_key={datamos_api}'"
   ]
  },
  {
   "attachments": {},
   "cell_type": "markdown",
   "metadata": {},
   "source": [
    "#### 3.2 Request data\n"
   ]
  },
  {
   "cell_type": "code",
   "execution_count": null,
   "metadata": {},
   "outputs": [],
   "source": [
    "data_mos = requests.get(url = url_data )"
   ]
  },
  {
   "cell_type": "code",
   "execution_count": null,
   "metadata": {},
   "outputs": [],
   "source": [
    "data_mos.status_code"
   ]
  },
  {
   "cell_type": "code",
   "execution_count": null,
   "metadata": {},
   "outputs": [],
   "source": [
    "data_mos.json()"
   ]
  },
  {
   "attachments": {},
   "cell_type": "markdown",
   "metadata": {},
   "source": [
    "#### 3.3. Create GeoDataFrame\n"
   ]
  },
  {
   "cell_type": "code",
   "execution_count": null,
   "metadata": {},
   "outputs": [],
   "source": [
    "churches = gpd.GeoDataFrame.from_features(data_mos.json()[\"features\"], crs=\"EPSG:4326\")\n",
    "churches.head()"
   ]
  },
  {
   "attachments": {},
   "cell_type": "markdown",
   "metadata": {},
   "source": [
    "#### 3.4 Split attributes to a separate fields\n"
   ]
  },
  {
   "cell_type": "code",
   "execution_count": null,
   "metadata": {},
   "outputs": [],
   "source": [
    "\n",
    "churches_attributes = pd.DataFrame(churches['attributes'].values.tolist(), index=churches.index).applymap(str)\n",
    "churches_final = pd.concat([churches, churches_attributes], axis = 1).drop('attributes', axis = 1)\n"
   ]
  },
  {
   "cell_type": "code",
   "execution_count": null,
   "metadata": {},
   "outputs": [],
   "source": [
    "churches_final.explore()"
   ]
  },
  {
   "cell_type": "code",
   "execution_count": null,
   "metadata": {},
   "outputs": [],
   "source": [
    "churches_final.head()"
   ]
  },
  {
   "attachments": {},
   "cell_type": "markdown",
   "metadata": {},
   "source": [
    "#### 3.5 Save data\n"
   ]
  },
  {
   "cell_type": "code",
   "execution_count": null,
   "metadata": {},
   "outputs": [],
   "source": [
    "churches_final.to_file('churches.shp')"
   ]
  },
  {
   "attachments": {},
   "cell_type": "markdown",
   "metadata": {},
   "source": [
    "## 4. ORS_API: directions, isochrones and more\n"
   ]
  },
  {
   "attachments": {},
   "cell_type": "markdown",
   "metadata": {},
   "source": [
    "#### 4.1 Set API\n"
   ]
  },
  {
   "cell_type": "code",
   "execution_count": null,
   "metadata": {},
   "outputs": [],
   "source": [
    "ors_api = 'your-api-here'"
   ]
  },
  {
   "attachments": {},
   "cell_type": "markdown",
   "metadata": {},
   "source": [
    "#### 4.2 Set parameters of locations, transportation mode and isochrones range (in seconds)\n"
   ]
  },
  {
   "cell_type": "code",
   "execution_count": null,
   "metadata": {},
   "outputs": [],
   "source": [
    "mode = 'foot-walking'\n",
    "range = [200, 300, 400, 500]\n",
    "locations = [[buildings.centroid.x.mean(), buildings.centroid.y.mean()]]\n",
    "\n",
    "\n",
    "body = {\"locations\":locations, \"range\":range}\n",
    "headers = {\n",
    "    'Accept': 'application/json, application/geo+json, application/gpx+xml, img/png; charset=utf-8',\n",
    "    'Authorization': ors_api,\n",
    "    'Content-Type': 'application/json; charset=utf-8'\n",
    "}\n",
    "\n",
    "\n",
    "response = requests.post(f'https://api.openrouteservice.org/v2/isochrones/{mode}', json=body, headers=headers)\n"
   ]
  },
  {
   "attachments": {},
   "cell_type": "markdown",
   "metadata": {},
   "source": [
    "#### 4.3 Request isochrones\n"
   ]
  },
  {
   "cell_type": "code",
   "execution_count": null,
   "metadata": {},
   "outputs": [],
   "source": [
    "response = requests.post(f'https://api.openrouteservice.org/v2/isochrones/{mode}', json=body, headers=headers)"
   ]
  },
  {
   "attachments": {},
   "cell_type": "markdown",
   "metadata": {},
   "source": [
    "#### 4.4 Explore the result\n"
   ]
  },
  {
   "cell_type": "code",
   "execution_count": null,
   "metadata": {},
   "outputs": [],
   "source": [
    "response.json()"
   ]
  },
  {
   "attachments": {},
   "cell_type": "markdown",
   "metadata": {},
   "source": [
    "#### 4.5 Create DeoDataFrame\n"
   ]
  },
  {
   "cell_type": "code",
   "execution_count": null,
   "metadata": {},
   "outputs": [],
   "source": [
    "isochrones_gdf = gpd.GeoDataFrame.from_features(response.json()[\"features\"], crs=\"EPSG:4326\")\n",
    "print(isochrones_gdf.head())"
   ]
  },
  {
   "attachments": {},
   "cell_type": "markdown",
   "metadata": {},
   "source": [
    "#### 4.6 Create web-map to look at the results\n"
   ]
  },
  {
   "cell_type": "code",
   "execution_count": null,
   "metadata": {},
   "outputs": [],
   "source": [
    "osm_map = folium.Map(location=[buildings.centroid.y.mean(), buildings.centroid.x.mean()], zoom_start=15)\n",
    "isochrones  = folium.features.GeoJson(isochrones_gdf.to_json())\n",
    "osm_map.add_child(isochrones)\n",
    "osm_map"
   ]
  },
  {
   "cell_type": "markdown",
   "metadata": {},
   "source": [
    "#### 4.6 Create isochrones for churches\n"
   ]
  },
  {
   "cell_type": "code",
   "execution_count": null,
   "metadata": {},
   "outputs": [],
   "source": [
    "columns = ['ID', 'Name', 'Iso']\n",
    "isochrones_gdf = gpd.GeoDataFrame(columns=columns)\n",
    "\n",
    "for index, row in churches_final.iterrows():\n",
    "    locations = [[row.geometry.x, row.geometry.y]]\n",
    "    mode = 'foot-walking'\n",
    "    ranges = [500]\n",
    "\n",
    "    body = {\"locations\": locations, \"range\":ranges}\n",
    "    headers = {\n",
    "        'Accept': 'application/json, application/geo+json, application/gpx+xml, img/png; charset=utf-8',\n",
    "        'Authorization': ors_api,\n",
    "        'Content-Type': 'application/json; charset=utf-8'\n",
    "    }\n",
    "\n",
    "    response = requests.post(f'https://api.openrouteservice.org/v2/isochrones/{mode}', json=body, headers=headers)\n",
    "\n",
    "    if response.status_code == 200:\n",
    "    \n",
    "        isochrones_data = response.json()\n",
    "        for i, iso in enumerate(isochrones_data['features']):\n",
    "            iso_time = iso['properties']['value']\n",
    "            ID = row['ID']\n",
    "            Name = row['Name']\n",
    "            print(iso['geometry'])\n",
    "            new_row = {'ID': ID, 'Name': Name, 'Iso': iso_time, 'geometry': iso['geometry']}\n",
    "            \n",
    "            isochrones_gdf = pd.concat([isochrones_gdf, pd.DataFrame([new_row])], ignore_index=True)\n",
    "    else:\n",
    "        print(\"Error\", response.status_code)\n",
    "\n",
    "# Отображаем полученный GeoDataFrame с изохронами\n",
    "print(isochrones_gdf)"
   ]
  }
 ],
 "metadata": {
  "kernelspec": {
   "display_name": "Python 3",
   "language": "python",
   "name": "python3"
  },
  "language_info": {
   "codemirror_mode": {
    "name": "ipython",
    "version": 3
   },
   "file_extension": ".py",
   "mimetype": "text/x-python",
   "name": "python",
   "nbconvert_exporter": "python",
   "pygments_lexer": "ipython3",
   "version": "3.11.3"
  },
  "orig_nbformat": 4,
  "vscode": {
   "interpreter": {
    "hash": "aee8b7b246df8f9039afb4144a1f6fd8d2ca17a180786b69acc140d282b71a49"
   }
  }
 },
 "nbformat": 4,
 "nbformat_minor": 2
}
